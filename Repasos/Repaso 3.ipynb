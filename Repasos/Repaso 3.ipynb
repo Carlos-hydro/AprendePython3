{
 "cells": [
  {
   "cell_type": "markdown",
   "metadata": {},
   "source": [
    "# Repaso 3\n",
    "\n",
    "## Enunciado\n",
    "\n",
    "Crea un programa para estudiar el impacto ambiental del COVID-19 en Madrid. Para ello utiliza los siguientes datos:\n",
    "\n",
    "- Listado de las estaciones de control: [enlace](https://datos.madrid.es/egob/catalogo/212629-1-estaciones-control-aire.csv)\n",
    "- Datos 2020: [enlace](https://datos.madrid.es/egob/catalogo/201200-10306316-calidad-aire-horario.zip)\n",
    "- Datos 2019: [enlace](https://datos.madrid.es/egob/catalogo/201200-42-calidad-aire-horario.zip)\n",
    "- Interpretación de los datos: [enlace](https://datos.madrid.es/FWProjects/egob/Catalogo/MedioAmbiente/Aire/Ficheros/Interprete_ficheros_%20calidad_%20del_%20aire_global.pdf)\n",
    "\n",
    "1. Para ello, crea una gráfico normal donde comparar ambas muestras en función del día del mes.\n",
    "2. Además, crea un gráfico con dos mapas de calor (uno para 2019 y otro para 2020) dónde se pueda comprobar el nivel de contaminación en función del día de la semana y la hora del día, tomando como referencia el máximo valor observado. Es de esperar que el mapa de 2019 sea mucho más *caliente* que el de 2020.\n",
    "\n",
    "## Aclaraciones\n",
    "1. Tomaremos como referencia la estación **Escuelas Aguirre** situada entre la calle **Alcalá** y la calle **O'Donell**\n",
    "2. Evaluaremos los datos del mes de Marzo tomando como referencia las muestras de **NO2** observadas. Para realizar el gráfico normal, tomaremos los valores observados a las **09:00** en particular.\n",
    "3. Las dimensiones de los mapas de calor han de ser 24x7. El valor a pintar en el mapa, será el máximo observado. Es decir, si tenemos 4 mediciones un Lunes a las 13:00 cuyos valores son [52, 37, 108, 40] nos quedaremos con el 108.\n",
    "4. Puedes (y debes) descargar los datos manualmente haciendo clic en los enlaces, ya que son ficheros zip que hay que descomprimir. Para cada mes, hay 3 tipos de fichero distinto (txt, csv y xml). Utiliza el que te resulte más cómodo.\n",
    "\n",
    "Es un ejercicio \"complejo\". Recordad que el foro esta abierto para lanzar preguntas y ayudaros unos a otros."
   ]
  },
  {
   "cell_type": "markdown",
   "metadata": {},
   "source": [
    "## Solución"
   ]
  }
 ],
 "metadata": {
  "kernelspec": {
   "display_name": "Python 3",
   "language": "python",
   "name": "python3"
  },
  "language_info": {
   "codemirror_mode": {
    "name": "ipython",
    "version": 3
   },
   "file_extension": ".py",
   "mimetype": "text/x-python",
   "name": "python",
   "nbconvert_exporter": "python",
   "pygments_lexer": "ipython3",
   "version": "3.7.2"
  }
 },
 "nbformat": 4,
 "nbformat_minor": 4
}
