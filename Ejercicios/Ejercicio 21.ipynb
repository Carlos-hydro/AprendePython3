{
 "cells": [
  {
   "cell_type": "markdown",
   "metadata": {},
   "source": [
    "# Ejercicio 21\n",
    "\n",
    "## Enunciado\n",
    "Crea un programa que:\n",
    "\n",
    "1. Consulte las categorás disponibles de esta API: https://api.publicapis.org/\n",
    "2. Obtenga 10 registros aleatorios de la categoría deseada y los guarde en un fichero JSON añadiendo la fecha y hora de cuando se realizó la segunda llamada.\n",
    "\n",
    "## Info\n",
    "Documentación de la API: [enlace](https://github.com/davemachado/public-api)"
   ]
  },
  {
   "cell_type": "markdown",
   "metadata": {},
   "source": [
    "### ¿Qué cosas nuevas necesitamos saber?\n",
    "- Consultas a APIS mediante **requets**.\n",
    "- Guardar diccionarios en formato JSON mediante **json**."
   ]
  },
  {
   "cell_type": "markdown",
   "metadata": {},
   "source": [
    "### Consultas a APIS mediante **requets**.\n",
    "\n",
    "Mediante la librería requests podemos realizar llamas a APIS. Por lo general, las llamadas suelen ser para consultrar datos y para ello, como ya vimos se utiliza el comando **get()**.\n",
    "\n",
    "Veamos un ejemplo:"
   ]
  },
  {
   "cell_type": "code",
   "execution_count": null,
   "metadata": {},
   "outputs": [],
   "source": [
    "import requests"
   ]
  },
  {
   "cell_type": "code",
   "execution_count": null,
   "metadata": {},
   "outputs": [],
   "source": [
    "base_url = \"https://api.publicapis.org/\"\n",
    "endpoint = \"health\""
   ]
  },
  {
   "cell_type": "code",
   "execution_count": null,
   "metadata": {},
   "outputs": [],
   "source": [
    "r = requests.get(base_url + endpoint)"
   ]
  },
  {
   "cell_type": "code",
   "execution_count": null,
   "metadata": {},
   "outputs": [],
   "source": [
    "# si nuestra llamada ha ido bien, la siguiente sentencia ha de devolver el valor 200\n",
    "r.status_code"
   ]
  },
  {
   "cell_type": "code",
   "execution_count": null,
   "metadata": {},
   "outputs": [],
   "source": [
    "# podemos ver los resultados accediendo a traves del método json() que nos devolvera los datos en formato diccionario\n",
    "results = r.json()\n",
    "results"
   ]
  },
  {
   "cell_type": "code",
   "execution_count": null,
   "metadata": {},
   "outputs": [],
   "source": [
    "# si queremos algun valor en especial, tan solo accedemos a el como en los diccionarios, ya que es el tipo del\n",
    "# objeto devuelto\n",
    "results.get('alive')"
   ]
  },
  {
   "cell_type": "markdown",
   "metadata": {},
   "source": [
    "### Guardar diccionarios en formato JSON mediante **json**.\n",
    "\n",
    "Mediante la librería json, podemos persistir los datos a un fichero JSON para posteriormente poder recuperarlos.\n",
    "\n",
    "Veamos como:"
   ]
  },
  {
   "cell_type": "code",
   "execution_count": null,
   "metadata": {},
   "outputs": [],
   "source": [
    "import json"
   ]
  },
  {
   "cell_type": "code",
   "execution_count": null,
   "metadata": {},
   "outputs": [],
   "source": [
    "# así guardamos el fichero\n",
    "with open('results.json', 'w') as f:\n",
    "    json.dump(results, f)\n",
    "    f.close()"
   ]
  },
  {
   "cell_type": "markdown",
   "metadata": {},
   "source": [
    "Como podréis comprobar, se ha generado un fichero llamado *results.json* en el directorio donde están vuestros ejercicios.\n",
    "\n",
    "Para recuperar el fichero, basta hacer el paso inverso:"
   ]
  },
  {
   "cell_type": "code",
   "execution_count": null,
   "metadata": {},
   "outputs": [],
   "source": [
    "# así leemos el fichero, y, de manera adicional\n",
    "with open('results.json', 'r') as f:\n",
    "    results2 = json.load(f)\n",
    "    f.close()"
   ]
  },
  {
   "cell_type": "code",
   "execution_count": null,
   "metadata": {},
   "outputs": [],
   "source": [
    "results2"
   ]
  },
  {
   "cell_type": "markdown",
   "metadata": {},
   "source": [
    "## Solución"
   ]
  }
 ],
 "metadata": {
  "kernelspec": {
   "display_name": "Python 3",
   "language": "python",
   "name": "python3"
  },
  "language_info": {
   "codemirror_mode": {
    "name": "ipython",
    "version": 3
   },
   "file_extension": ".py",
   "mimetype": "text/x-python",
   "name": "python",
   "nbconvert_exporter": "python",
   "pygments_lexer": "ipython3",
   "version": "3.7.2"
  }
 },
 "nbformat": 4,
 "nbformat_minor": 4
}
