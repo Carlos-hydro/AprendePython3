{
 "cells": [
  {
   "cell_type": "markdown",
   "metadata": {},
   "source": [
    "# Ejercicio 18\n",
    "\n",
    "## Enunciado\n",
    "Crea un programa que:\n",
    "\n",
    "1. Lea los datos referentes a la contaminación de Madrid de Marzo 2020 en un DataFrame de pandas.\n",
    "2. Indique el número de mediciones tomadas a las 03:00 **no válidas**.\n",
    "3. Muestre las estadísticas a nivel horario de los registros correspondientes a N02.\n",
    "\n",
    "## Datos\n",
    "\n",
    "- Listado de las estaciones de control: [enlace](https://datos.madrid.es/egob/catalogo/212629-1-estaciones-control-aire.csv)\n",
    "- Datos 2020: [enlace](https://datos.madrid.es/egob/catalogo/201200-10306316-calidad-aire-horario.zip)\n",
    "- Datos 2019: [enlace](https://datos.madrid.es/egob/catalogo/201200-42-calidad-aire-horario.zip)\n",
    "- Interpretación de los datos: [enlace](https://datos.madrid.es/FWProjects/egob/Catalogo/MedioAmbiente/Aire/Ficheros/Interprete_ficheros_%20calidad_%20del_%20aire_global.pdf)"
   ]
  },
  {
   "cell_type": "markdown",
   "metadata": {},
   "source": [
    "### ¿Qué cosas nuevas necesitamos saber?\n",
    "- DataFrames. La librería **pandas**."
   ]
  },
  {
   "cell_type": "markdown",
   "metadata": {},
   "source": [
    "### DataFrames. La librería **pandas**.\n",
    "\n",
    "Antes de poder utilizar la librería **pandas** debemos instalarla. Para ello, el comando es el siguiente:\n",
    "```console\n",
    "pip install -U pandas\n",
    "```\n",
    "\n",
    "**NOTA**: Recuerda ejecutar la consola como administrador en el caso de Windows o preceder el comando de **sudo** en el caso de Linux/MacOS."
   ]
  },
  {
   "cell_type": "code",
   "execution_count": null,
   "metadata": {},
   "outputs": [],
   "source": [
    "# una vez instalada, realizaremos el siguiente import\n",
    "import pandas as pd"
   ]
  },
  {
   "cell_type": "markdown",
   "metadata": {},
   "source": [
    "Pero, antes de empezar... qué es pandas?\n",
    "\n",
    "Pues entre otras cosas, pandas es una librería que nos brinda estructuras de datos denominados DataFrames. Para aquellos que tengáis conocimientos en bases de datos, sería el equivalente (a grosso modo) a una tabla."
   ]
  },
  {
   "cell_type": "markdown",
   "metadata": {},
   "source": [
    "#### Importando datos\n",
    "\n",
    "Para importar datos, existen numerosas opciones en función del origen de los datos.\n",
    "\n",
    "Todas ellas están disponibles en [este enlace](https://pandas.pydata.org/pandas-docs/stable/reference/io.html).\n",
    "\n",
    "Veamos un ejemplo de como leer un csv. Para ello utilizaremos los datos del COVID-19 proporcionados por el Ministerio de Sanidad disponibles en [este enlace](https://covid19.isciii.es/resources/serie_historica_acumulados.csv), los cuales debemos descargar."
   ]
  },
  {
   "cell_type": "code",
   "execution_count": null,
   "metadata": {},
   "outputs": [],
   "source": [
    "# en mi caso los he descargado en el directorio dónde tengo los ejercicios, por lo que lo haré de la siguiente manera:\n",
    "covid_df = pd.read_csv(\"serie_historica_acumulados.csv\", encoding=\"ISO-8859-1\")"
   ]
  },
  {
   "cell_type": "code",
   "execution_count": null,
   "metadata": {},
   "outputs": [],
   "source": [
    "# observemos que pinta tienen los datos\n",
    "covid_df"
   ]
  },
  {
   "cell_type": "markdown",
   "metadata": {},
   "source": [
    "Como podemos comprobar, por defecto nos ha tomado la primera fila como las cabeceras y, dado que lo ha separado correctamente en columnas, ha tomado la coma (,) como separador.\n",
    "\n",
    "Además, hemos tenido que indicarle el encoding en este caso ya que en la fila 1026 tenemos la palabra n**ú**mero y de no indicarle que el encodig es el correspondiente al alfabeto latino hubiera fallado (podéis comprobarlo quitano el parámetro en cuestión).\n",
    "\n",
    "Podéis consultar el resto de información (os hará falta) del método [aquí](https://pandas.pydata.org/pandas-docs/stable/reference/api/pandas.read_csv.html#pandas.read_csv)."
   ]
  },
  {
   "cell_type": "markdown",
   "metadata": {},
   "source": [
    "Veamos algunas funciones de utilidad:"
   ]
  },
  {
   "cell_type": "code",
   "execution_count": null,
   "metadata": {},
   "outputs": [],
   "source": [
    "covid_df.count() # conteo de registros no nulos (NaN) por columna"
   ]
  },
  {
   "cell_type": "code",
   "execution_count": null,
   "metadata": {},
   "outputs": [],
   "source": [
    "covid_df.describe() # estadísticas de registros no nulos (NaN) por columna numérica"
   ]
  },
  {
   "cell_type": "markdown",
   "metadata": {},
   "source": [
    "**NOTA**: Las estadíticas anteriores se han calculado sobre la suma total de todos los registros."
   ]
  },
  {
   "cell_type": "markdown",
   "metadata": {},
   "source": [
    "Veamos como obtener las estadísticas en base a los últimos datos conocidos"
   ]
  },
  {
   "cell_type": "code",
   "execution_count": null,
   "metadata": {},
   "outputs": [],
   "source": [
    "recent_covid_19 = covid_df[covid_df['FECHA'] == '13/4/2020'] # así obtenemos aquellos registros cuya fecha\n",
    "# coincide con la máxima observada"
   ]
  },
  {
   "cell_type": "code",
   "execution_count": null,
   "metadata": {},
   "outputs": [],
   "source": [
    "recent_covid_19"
   ]
  },
  {
   "cell_type": "markdown",
   "metadata": {},
   "source": [
    "Ahora si, obtengamos estadísticas de interes:"
   ]
  },
  {
   "cell_type": "code",
   "execution_count": null,
   "metadata": {},
   "outputs": [],
   "source": [
    "recent_covid_19.describe()"
   ]
  },
  {
   "cell_type": "markdown",
   "metadata": {},
   "source": [
    "Como podemos comprobar, por ejemplo, la media (mean) de casos por CCAA a 13 de abril está en torno a los 9000, mientras que la CCAA con mas casos (max) es Madrid con 48048 y la que menos (min) es Ceuta con 96."
   ]
  },
  {
   "cell_type": "markdown",
   "metadata": {},
   "source": [
    "Eso es todo, a por el ejercicio!"
   ]
  },
  {
   "cell_type": "markdown",
   "metadata": {},
   "source": [
    "## Solución"
   ]
  },
  {
   "cell_type": "code",
   "execution_count": 1,
   "metadata": {},
   "outputs": [],
   "source": [
    "import pandas as pd"
   ]
  },
  {
   "cell_type": "code",
   "execution_count": 2,
   "metadata": {},
   "outputs": [],
   "source": [
    "pollution = pd.read_csv(\"../Datos/mar_mo19.csv\", sep=\";\")"
   ]
  },
  {
   "cell_type": "code",
   "execution_count": 12,
   "metadata": {},
   "outputs": [],
   "source": [
    "no_validas = pollution[pollution['V03'] != 'V']"
   ]
  },
  {
   "cell_type": "code",
   "execution_count": 13,
   "metadata": {},
   "outputs": [
    {
     "name": "stdout",
     "output_type": "stream",
     "text": [
      "Número de mediciones realizadas a las 03:00 no válidas: 169\n"
     ]
    }
   ],
   "source": [
    "print(\"Número de mediciones realizadas a las 03:00 no válidas:\", len(no_validas))"
   ]
  },
  {
   "cell_type": "code",
   "execution_count": 14,
   "metadata": {},
   "outputs": [],
   "source": [
    "no2 = pollution[pollution['MAGNITUD'] == 8]"
   ]
  },
  {
   "cell_type": "code",
   "execution_count": 19,
   "metadata": {},
   "outputs": [],
   "source": [
    "columns_with_data = [col for col in no2.columns if col.startswith('H')]"
   ]
  },
  {
   "cell_type": "code",
   "execution_count": 21,
   "metadata": {},
   "outputs": [],
   "source": [
    "no2_values = pollution[columns_with_data]"
   ]
  },
  {
   "cell_type": "code",
   "execution_count": 23,
   "metadata": {},
   "outputs": [
    {
     "data": {
      "text/html": [
       "<div>\n",
       "<style scoped>\n",
       "    .dataframe tbody tr th:only-of-type {\n",
       "        vertical-align: middle;\n",
       "    }\n",
       "\n",
       "    .dataframe tbody tr th {\n",
       "        vertical-align: top;\n",
       "    }\n",
       "\n",
       "    .dataframe thead th {\n",
       "        text-align: right;\n",
       "    }\n",
       "</style>\n",
       "<table border=\"1\" class=\"dataframe\">\n",
       "  <thead>\n",
       "    <tr style=\"text-align: right;\">\n",
       "      <th></th>\n",
       "      <th>H01</th>\n",
       "      <th>H02</th>\n",
       "      <th>H03</th>\n",
       "      <th>H04</th>\n",
       "      <th>H05</th>\n",
       "      <th>H06</th>\n",
       "      <th>H07</th>\n",
       "      <th>H08</th>\n",
       "      <th>H09</th>\n",
       "      <th>H10</th>\n",
       "      <th>...</th>\n",
       "      <th>H15</th>\n",
       "      <th>H16</th>\n",
       "      <th>H17</th>\n",
       "      <th>H18</th>\n",
       "      <th>H19</th>\n",
       "      <th>H20</th>\n",
       "      <th>H21</th>\n",
       "      <th>H22</th>\n",
       "      <th>H23</th>\n",
       "      <th>H24</th>\n",
       "    </tr>\n",
       "  </thead>\n",
       "  <tbody>\n",
       "    <tr>\n",
       "      <th>count</th>\n",
       "      <td>4669.000000</td>\n",
       "      <td>4669.000000</td>\n",
       "      <td>4669.000000</td>\n",
       "      <td>4669.000000</td>\n",
       "      <td>4669.000000</td>\n",
       "      <td>4669.000000</td>\n",
       "      <td>4669.000000</td>\n",
       "      <td>4669.000000</td>\n",
       "      <td>4669.000000</td>\n",
       "      <td>4669.000000</td>\n",
       "      <td>...</td>\n",
       "      <td>4669.000000</td>\n",
       "      <td>4669.000000</td>\n",
       "      <td>4669.000000</td>\n",
       "      <td>4669.000000</td>\n",
       "      <td>4669.000000</td>\n",
       "      <td>4669.000000</td>\n",
       "      <td>4669.000000</td>\n",
       "      <td>4669.000000</td>\n",
       "      <td>4669.000000</td>\n",
       "      <td>4669.000000</td>\n",
       "    </tr>\n",
       "    <tr>\n",
       "      <th>mean</th>\n",
       "      <td>23.270595</td>\n",
       "      <td>20.362712</td>\n",
       "      <td>17.804787</td>\n",
       "      <td>17.115618</td>\n",
       "      <td>16.108265</td>\n",
       "      <td>16.257854</td>\n",
       "      <td>20.643665</td>\n",
       "      <td>30.956558</td>\n",
       "      <td>35.118404</td>\n",
       "      <td>31.317282</td>\n",
       "      <td>...</td>\n",
       "      <td>20.232219</td>\n",
       "      <td>19.324076</td>\n",
       "      <td>18.791150</td>\n",
       "      <td>19.039544</td>\n",
       "      <td>20.575346</td>\n",
       "      <td>25.766582</td>\n",
       "      <td>33.596509</td>\n",
       "      <td>35.692536</td>\n",
       "      <td>30.690439</td>\n",
       "      <td>25.836102</td>\n",
       "    </tr>\n",
       "    <tr>\n",
       "      <th>std</th>\n",
       "      <td>36.174432</td>\n",
       "      <td>31.216042</td>\n",
       "      <td>28.017207</td>\n",
       "      <td>25.511420</td>\n",
       "      <td>23.338122</td>\n",
       "      <td>22.645566</td>\n",
       "      <td>27.492339</td>\n",
       "      <td>42.675227</td>\n",
       "      <td>47.862027</td>\n",
       "      <td>41.608188</td>\n",
       "      <td>...</td>\n",
       "      <td>27.105853</td>\n",
       "      <td>28.343226</td>\n",
       "      <td>27.039419</td>\n",
       "      <td>26.168497</td>\n",
       "      <td>27.136390</td>\n",
       "      <td>36.054329</td>\n",
       "      <td>51.626500</td>\n",
       "      <td>57.308153</td>\n",
       "      <td>49.625510</td>\n",
       "      <td>41.560991</td>\n",
       "    </tr>\n",
       "    <tr>\n",
       "      <th>min</th>\n",
       "      <td>0.000000</td>\n",
       "      <td>0.000000</td>\n",
       "      <td>0.000000</td>\n",
       "      <td>0.000000</td>\n",
       "      <td>0.000000</td>\n",
       "      <td>0.000000</td>\n",
       "      <td>0.000000</td>\n",
       "      <td>0.000000</td>\n",
       "      <td>0.000000</td>\n",
       "      <td>0.000000</td>\n",
       "      <td>...</td>\n",
       "      <td>0.000000</td>\n",
       "      <td>0.000000</td>\n",
       "      <td>0.000000</td>\n",
       "      <td>0.000000</td>\n",
       "      <td>0.000000</td>\n",
       "      <td>0.000000</td>\n",
       "      <td>0.000000</td>\n",
       "      <td>0.000000</td>\n",
       "      <td>0.000000</td>\n",
       "      <td>0.000000</td>\n",
       "    </tr>\n",
       "    <tr>\n",
       "      <th>25%</th>\n",
       "      <td>1.000000</td>\n",
       "      <td>1.000000</td>\n",
       "      <td>1.000000</td>\n",
       "      <td>1.000000</td>\n",
       "      <td>1.000000</td>\n",
       "      <td>1.000000</td>\n",
       "      <td>1.000000</td>\n",
       "      <td>1.610000</td>\n",
       "      <td>2.000000</td>\n",
       "      <td>2.300000</td>\n",
       "      <td>...</td>\n",
       "      <td>1.390000</td>\n",
       "      <td>1.270000</td>\n",
       "      <td>1.200000</td>\n",
       "      <td>1.200000</td>\n",
       "      <td>1.160000</td>\n",
       "      <td>1.200000</td>\n",
       "      <td>1.410000</td>\n",
       "      <td>1.500000</td>\n",
       "      <td>1.300000</td>\n",
       "      <td>1.000000</td>\n",
       "    </tr>\n",
       "    <tr>\n",
       "      <th>50%</th>\n",
       "      <td>10.000000</td>\n",
       "      <td>9.000000</td>\n",
       "      <td>7.000000</td>\n",
       "      <td>7.000000</td>\n",
       "      <td>7.000000</td>\n",
       "      <td>8.000000</td>\n",
       "      <td>10.000000</td>\n",
       "      <td>13.230000</td>\n",
       "      <td>17.000000</td>\n",
       "      <td>17.000000</td>\n",
       "      <td>...</td>\n",
       "      <td>10.000000</td>\n",
       "      <td>9.000000</td>\n",
       "      <td>8.000000</td>\n",
       "      <td>9.000000</td>\n",
       "      <td>10.000000</td>\n",
       "      <td>12.000000</td>\n",
       "      <td>14.000000</td>\n",
       "      <td>14.000000</td>\n",
       "      <td>13.000000</td>\n",
       "      <td>11.000000</td>\n",
       "    </tr>\n",
       "    <tr>\n",
       "      <th>75%</th>\n",
       "      <td>28.000000</td>\n",
       "      <td>25.000000</td>\n",
       "      <td>21.000000</td>\n",
       "      <td>20.000000</td>\n",
       "      <td>19.000000</td>\n",
       "      <td>21.000000</td>\n",
       "      <td>31.000000</td>\n",
       "      <td>46.390000</td>\n",
       "      <td>50.000000</td>\n",
       "      <td>44.000000</td>\n",
       "      <td>...</td>\n",
       "      <td>25.000000</td>\n",
       "      <td>23.000000</td>\n",
       "      <td>22.000000</td>\n",
       "      <td>24.000000</td>\n",
       "      <td>28.000000</td>\n",
       "      <td>39.000000</td>\n",
       "      <td>47.000000</td>\n",
       "      <td>47.000000</td>\n",
       "      <td>40.000000</td>\n",
       "      <td>32.000000</td>\n",
       "    </tr>\n",
       "    <tr>\n",
       "      <th>max</th>\n",
       "      <td>521.000000</td>\n",
       "      <td>431.000000</td>\n",
       "      <td>370.000000</td>\n",
       "      <td>342.000000</td>\n",
       "      <td>305.000000</td>\n",
       "      <td>249.000000</td>\n",
       "      <td>255.000000</td>\n",
       "      <td>343.000000</td>\n",
       "      <td>511.000000</td>\n",
       "      <td>444.000000</td>\n",
       "      <td>...</td>\n",
       "      <td>166.000000</td>\n",
       "      <td>674.400000</td>\n",
       "      <td>324.000000</td>\n",
       "      <td>159.000000</td>\n",
       "      <td>255.000000</td>\n",
       "      <td>854.000000</td>\n",
       "      <td>821.000000</td>\n",
       "      <td>689.000000</td>\n",
       "      <td>631.000000</td>\n",
       "      <td>568.000000</td>\n",
       "    </tr>\n",
       "  </tbody>\n",
       "</table>\n",
       "<p>8 rows × 24 columns</p>\n",
       "</div>"
      ],
      "text/plain": [
       "               H01          H02          H03          H04          H05  \\\n",
       "count  4669.000000  4669.000000  4669.000000  4669.000000  4669.000000   \n",
       "mean     23.270595    20.362712    17.804787    17.115618    16.108265   \n",
       "std      36.174432    31.216042    28.017207    25.511420    23.338122   \n",
       "min       0.000000     0.000000     0.000000     0.000000     0.000000   \n",
       "25%       1.000000     1.000000     1.000000     1.000000     1.000000   \n",
       "50%      10.000000     9.000000     7.000000     7.000000     7.000000   \n",
       "75%      28.000000    25.000000    21.000000    20.000000    19.000000   \n",
       "max     521.000000   431.000000   370.000000   342.000000   305.000000   \n",
       "\n",
       "               H06          H07          H08          H09          H10  ...  \\\n",
       "count  4669.000000  4669.000000  4669.000000  4669.000000  4669.000000  ...   \n",
       "mean     16.257854    20.643665    30.956558    35.118404    31.317282  ...   \n",
       "std      22.645566    27.492339    42.675227    47.862027    41.608188  ...   \n",
       "min       0.000000     0.000000     0.000000     0.000000     0.000000  ...   \n",
       "25%       1.000000     1.000000     1.610000     2.000000     2.300000  ...   \n",
       "50%       8.000000    10.000000    13.230000    17.000000    17.000000  ...   \n",
       "75%      21.000000    31.000000    46.390000    50.000000    44.000000  ...   \n",
       "max     249.000000   255.000000   343.000000   511.000000   444.000000  ...   \n",
       "\n",
       "               H15          H16          H17          H18          H19  \\\n",
       "count  4669.000000  4669.000000  4669.000000  4669.000000  4669.000000   \n",
       "mean     20.232219    19.324076    18.791150    19.039544    20.575346   \n",
       "std      27.105853    28.343226    27.039419    26.168497    27.136390   \n",
       "min       0.000000     0.000000     0.000000     0.000000     0.000000   \n",
       "25%       1.390000     1.270000     1.200000     1.200000     1.160000   \n",
       "50%      10.000000     9.000000     8.000000     9.000000    10.000000   \n",
       "75%      25.000000    23.000000    22.000000    24.000000    28.000000   \n",
       "max     166.000000   674.400000   324.000000   159.000000   255.000000   \n",
       "\n",
       "               H20          H21          H22          H23          H24  \n",
       "count  4669.000000  4669.000000  4669.000000  4669.000000  4669.000000  \n",
       "mean     25.766582    33.596509    35.692536    30.690439    25.836102  \n",
       "std      36.054329    51.626500    57.308153    49.625510    41.560991  \n",
       "min       0.000000     0.000000     0.000000     0.000000     0.000000  \n",
       "25%       1.200000     1.410000     1.500000     1.300000     1.000000  \n",
       "50%      12.000000    14.000000    14.000000    13.000000    11.000000  \n",
       "75%      39.000000    47.000000    47.000000    40.000000    32.000000  \n",
       "max     854.000000   821.000000   689.000000   631.000000   568.000000  \n",
       "\n",
       "[8 rows x 24 columns]"
      ]
     },
     "execution_count": 23,
     "metadata": {},
     "output_type": "execute_result"
    }
   ],
   "source": [
    "no2_values.describe()"
   ]
  },
  {
   "cell_type": "markdown",
   "metadata": {},
   "source": [
    "### Bonus: ¿A qué hora se da el pico de contaminación?"
   ]
  },
  {
   "cell_type": "code",
   "execution_count": 51,
   "metadata": {},
   "outputs": [],
   "source": [
    "statistics = no2_values.describe()"
   ]
  },
  {
   "cell_type": "code",
   "execution_count": 52,
   "metadata": {},
   "outputs": [
    {
     "data": {
      "text/html": [
       "<div>\n",
       "<style scoped>\n",
       "    .dataframe tbody tr th:only-of-type {\n",
       "        vertical-align: middle;\n",
       "    }\n",
       "\n",
       "    .dataframe tbody tr th {\n",
       "        vertical-align: top;\n",
       "    }\n",
       "\n",
       "    .dataframe thead th {\n",
       "        text-align: right;\n",
       "    }\n",
       "</style>\n",
       "<table border=\"1\" class=\"dataframe\">\n",
       "  <thead>\n",
       "    <tr style=\"text-align: right;\">\n",
       "      <th></th>\n",
       "      <th>H01</th>\n",
       "      <th>H02</th>\n",
       "      <th>H03</th>\n",
       "      <th>H04</th>\n",
       "      <th>H05</th>\n",
       "      <th>H06</th>\n",
       "      <th>H07</th>\n",
       "      <th>H08</th>\n",
       "      <th>H09</th>\n",
       "      <th>H10</th>\n",
       "      <th>...</th>\n",
       "      <th>H15</th>\n",
       "      <th>H16</th>\n",
       "      <th>H17</th>\n",
       "      <th>H18</th>\n",
       "      <th>H19</th>\n",
       "      <th>H20</th>\n",
       "      <th>H21</th>\n",
       "      <th>H22</th>\n",
       "      <th>H23</th>\n",
       "      <th>H24</th>\n",
       "    </tr>\n",
       "  </thead>\n",
       "  <tbody>\n",
       "    <tr>\n",
       "      <th>count</th>\n",
       "      <td>4669.000000</td>\n",
       "      <td>4669.000000</td>\n",
       "      <td>4669.000000</td>\n",
       "      <td>4669.000000</td>\n",
       "      <td>4669.000000</td>\n",
       "      <td>4669.000000</td>\n",
       "      <td>4669.000000</td>\n",
       "      <td>4669.000000</td>\n",
       "      <td>4669.000000</td>\n",
       "      <td>4669.000000</td>\n",
       "      <td>...</td>\n",
       "      <td>4669.000000</td>\n",
       "      <td>4669.000000</td>\n",
       "      <td>4669.000000</td>\n",
       "      <td>4669.000000</td>\n",
       "      <td>4669.000000</td>\n",
       "      <td>4669.000000</td>\n",
       "      <td>4669.000000</td>\n",
       "      <td>4669.000000</td>\n",
       "      <td>4669.000000</td>\n",
       "      <td>4669.000000</td>\n",
       "    </tr>\n",
       "    <tr>\n",
       "      <th>mean</th>\n",
       "      <td>23.270595</td>\n",
       "      <td>20.362712</td>\n",
       "      <td>17.804787</td>\n",
       "      <td>17.115618</td>\n",
       "      <td>16.108265</td>\n",
       "      <td>16.257854</td>\n",
       "      <td>20.643665</td>\n",
       "      <td>30.956558</td>\n",
       "      <td>35.118404</td>\n",
       "      <td>31.317282</td>\n",
       "      <td>...</td>\n",
       "      <td>20.232219</td>\n",
       "      <td>19.324076</td>\n",
       "      <td>18.791150</td>\n",
       "      <td>19.039544</td>\n",
       "      <td>20.575346</td>\n",
       "      <td>25.766582</td>\n",
       "      <td>33.596509</td>\n",
       "      <td>35.692536</td>\n",
       "      <td>30.690439</td>\n",
       "      <td>25.836102</td>\n",
       "    </tr>\n",
       "    <tr>\n",
       "      <th>std</th>\n",
       "      <td>36.174432</td>\n",
       "      <td>31.216042</td>\n",
       "      <td>28.017207</td>\n",
       "      <td>25.511420</td>\n",
       "      <td>23.338122</td>\n",
       "      <td>22.645566</td>\n",
       "      <td>27.492339</td>\n",
       "      <td>42.675227</td>\n",
       "      <td>47.862027</td>\n",
       "      <td>41.608188</td>\n",
       "      <td>...</td>\n",
       "      <td>27.105853</td>\n",
       "      <td>28.343226</td>\n",
       "      <td>27.039419</td>\n",
       "      <td>26.168497</td>\n",
       "      <td>27.136390</td>\n",
       "      <td>36.054329</td>\n",
       "      <td>51.626500</td>\n",
       "      <td>57.308153</td>\n",
       "      <td>49.625510</td>\n",
       "      <td>41.560991</td>\n",
       "    </tr>\n",
       "    <tr>\n",
       "      <th>min</th>\n",
       "      <td>0.000000</td>\n",
       "      <td>0.000000</td>\n",
       "      <td>0.000000</td>\n",
       "      <td>0.000000</td>\n",
       "      <td>0.000000</td>\n",
       "      <td>0.000000</td>\n",
       "      <td>0.000000</td>\n",
       "      <td>0.000000</td>\n",
       "      <td>0.000000</td>\n",
       "      <td>0.000000</td>\n",
       "      <td>...</td>\n",
       "      <td>0.000000</td>\n",
       "      <td>0.000000</td>\n",
       "      <td>0.000000</td>\n",
       "      <td>0.000000</td>\n",
       "      <td>0.000000</td>\n",
       "      <td>0.000000</td>\n",
       "      <td>0.000000</td>\n",
       "      <td>0.000000</td>\n",
       "      <td>0.000000</td>\n",
       "      <td>0.000000</td>\n",
       "    </tr>\n",
       "    <tr>\n",
       "      <th>25%</th>\n",
       "      <td>1.000000</td>\n",
       "      <td>1.000000</td>\n",
       "      <td>1.000000</td>\n",
       "      <td>1.000000</td>\n",
       "      <td>1.000000</td>\n",
       "      <td>1.000000</td>\n",
       "      <td>1.000000</td>\n",
       "      <td>1.610000</td>\n",
       "      <td>2.000000</td>\n",
       "      <td>2.300000</td>\n",
       "      <td>...</td>\n",
       "      <td>1.390000</td>\n",
       "      <td>1.270000</td>\n",
       "      <td>1.200000</td>\n",
       "      <td>1.200000</td>\n",
       "      <td>1.160000</td>\n",
       "      <td>1.200000</td>\n",
       "      <td>1.410000</td>\n",
       "      <td>1.500000</td>\n",
       "      <td>1.300000</td>\n",
       "      <td>1.000000</td>\n",
       "    </tr>\n",
       "    <tr>\n",
       "      <th>50%</th>\n",
       "      <td>10.000000</td>\n",
       "      <td>9.000000</td>\n",
       "      <td>7.000000</td>\n",
       "      <td>7.000000</td>\n",
       "      <td>7.000000</td>\n",
       "      <td>8.000000</td>\n",
       "      <td>10.000000</td>\n",
       "      <td>13.230000</td>\n",
       "      <td>17.000000</td>\n",
       "      <td>17.000000</td>\n",
       "      <td>...</td>\n",
       "      <td>10.000000</td>\n",
       "      <td>9.000000</td>\n",
       "      <td>8.000000</td>\n",
       "      <td>9.000000</td>\n",
       "      <td>10.000000</td>\n",
       "      <td>12.000000</td>\n",
       "      <td>14.000000</td>\n",
       "      <td>14.000000</td>\n",
       "      <td>13.000000</td>\n",
       "      <td>11.000000</td>\n",
       "    </tr>\n",
       "    <tr>\n",
       "      <th>75%</th>\n",
       "      <td>28.000000</td>\n",
       "      <td>25.000000</td>\n",
       "      <td>21.000000</td>\n",
       "      <td>20.000000</td>\n",
       "      <td>19.000000</td>\n",
       "      <td>21.000000</td>\n",
       "      <td>31.000000</td>\n",
       "      <td>46.390000</td>\n",
       "      <td>50.000000</td>\n",
       "      <td>44.000000</td>\n",
       "      <td>...</td>\n",
       "      <td>25.000000</td>\n",
       "      <td>23.000000</td>\n",
       "      <td>22.000000</td>\n",
       "      <td>24.000000</td>\n",
       "      <td>28.000000</td>\n",
       "      <td>39.000000</td>\n",
       "      <td>47.000000</td>\n",
       "      <td>47.000000</td>\n",
       "      <td>40.000000</td>\n",
       "      <td>32.000000</td>\n",
       "    </tr>\n",
       "    <tr>\n",
       "      <th>max</th>\n",
       "      <td>521.000000</td>\n",
       "      <td>431.000000</td>\n",
       "      <td>370.000000</td>\n",
       "      <td>342.000000</td>\n",
       "      <td>305.000000</td>\n",
       "      <td>249.000000</td>\n",
       "      <td>255.000000</td>\n",
       "      <td>343.000000</td>\n",
       "      <td>511.000000</td>\n",
       "      <td>444.000000</td>\n",
       "      <td>...</td>\n",
       "      <td>166.000000</td>\n",
       "      <td>674.400000</td>\n",
       "      <td>324.000000</td>\n",
       "      <td>159.000000</td>\n",
       "      <td>255.000000</td>\n",
       "      <td>854.000000</td>\n",
       "      <td>821.000000</td>\n",
       "      <td>689.000000</td>\n",
       "      <td>631.000000</td>\n",
       "      <td>568.000000</td>\n",
       "    </tr>\n",
       "  </tbody>\n",
       "</table>\n",
       "<p>8 rows × 24 columns</p>\n",
       "</div>"
      ],
      "text/plain": [
       "               H01          H02          H03          H04          H05  \\\n",
       "count  4669.000000  4669.000000  4669.000000  4669.000000  4669.000000   \n",
       "mean     23.270595    20.362712    17.804787    17.115618    16.108265   \n",
       "std      36.174432    31.216042    28.017207    25.511420    23.338122   \n",
       "min       0.000000     0.000000     0.000000     0.000000     0.000000   \n",
       "25%       1.000000     1.000000     1.000000     1.000000     1.000000   \n",
       "50%      10.000000     9.000000     7.000000     7.000000     7.000000   \n",
       "75%      28.000000    25.000000    21.000000    20.000000    19.000000   \n",
       "max     521.000000   431.000000   370.000000   342.000000   305.000000   \n",
       "\n",
       "               H06          H07          H08          H09          H10  ...  \\\n",
       "count  4669.000000  4669.000000  4669.000000  4669.000000  4669.000000  ...   \n",
       "mean     16.257854    20.643665    30.956558    35.118404    31.317282  ...   \n",
       "std      22.645566    27.492339    42.675227    47.862027    41.608188  ...   \n",
       "min       0.000000     0.000000     0.000000     0.000000     0.000000  ...   \n",
       "25%       1.000000     1.000000     1.610000     2.000000     2.300000  ...   \n",
       "50%       8.000000    10.000000    13.230000    17.000000    17.000000  ...   \n",
       "75%      21.000000    31.000000    46.390000    50.000000    44.000000  ...   \n",
       "max     249.000000   255.000000   343.000000   511.000000   444.000000  ...   \n",
       "\n",
       "               H15          H16          H17          H18          H19  \\\n",
       "count  4669.000000  4669.000000  4669.000000  4669.000000  4669.000000   \n",
       "mean     20.232219    19.324076    18.791150    19.039544    20.575346   \n",
       "std      27.105853    28.343226    27.039419    26.168497    27.136390   \n",
       "min       0.000000     0.000000     0.000000     0.000000     0.000000   \n",
       "25%       1.390000     1.270000     1.200000     1.200000     1.160000   \n",
       "50%      10.000000     9.000000     8.000000     9.000000    10.000000   \n",
       "75%      25.000000    23.000000    22.000000    24.000000    28.000000   \n",
       "max     166.000000   674.400000   324.000000   159.000000   255.000000   \n",
       "\n",
       "               H20          H21          H22          H23          H24  \n",
       "count  4669.000000  4669.000000  4669.000000  4669.000000  4669.000000  \n",
       "mean     25.766582    33.596509    35.692536    30.690439    25.836102  \n",
       "std      36.054329    51.626500    57.308153    49.625510    41.560991  \n",
       "min       0.000000     0.000000     0.000000     0.000000     0.000000  \n",
       "25%       1.200000     1.410000     1.500000     1.300000     1.000000  \n",
       "50%      12.000000    14.000000    14.000000    13.000000    11.000000  \n",
       "75%      39.000000    47.000000    47.000000    40.000000    32.000000  \n",
       "max     854.000000   821.000000   689.000000   631.000000   568.000000  \n",
       "\n",
       "[8 rows x 24 columns]"
      ]
     },
     "execution_count": 52,
     "metadata": {},
     "output_type": "execute_result"
    }
   ],
   "source": [
    "statistics"
   ]
  },
  {
   "cell_type": "code",
   "execution_count": 69,
   "metadata": {},
   "outputs": [],
   "source": [
    "max_values = statistics.loc['max'] # nos quedamos con la fila max"
   ]
  },
  {
   "cell_type": "code",
   "execution_count": 70,
   "metadata": {},
   "outputs": [],
   "source": [
    "from matplotlib import pyplot as plt"
   ]
  },
  {
   "cell_type": "code",
   "execution_count": 71,
   "metadata": {},
   "outputs": [],
   "source": [
    "max_value_at = list(max_values).index(max(max_values)) # obtenemos el indice donde se haya el maximo valor"
   ]
  },
  {
   "cell_type": "code",
   "execution_count": 72,
   "metadata": {},
   "outputs": [
    {
     "data": {
      "image/png": "[encoded data removed]",
      "text/plain": [
       "<Figure size 936x432 with 1 Axes>"
      ]
     },
     "metadata": {
      "needs_background": "light"
     },
     "output_type": "display_data"
    }
   ],
   "source": [
    "plt.figure(figsize=(13, 6))\n",
    "plt.plot(max_values.index, max_values, color='red', label='máximas')\n",
    "plt.legend()\n",
    "# con una f al comienzo del string podemos insertar valores al \"vuelo\" entre {} para que se representen en el string\n",
    "plt.title(f\"Pico máximo de contaminación a las {max_values.index[max_value_at]}\")\n",
    "plt.tight_layout()"
   ]
  }
 ],
 "metadata": {
  "kernelspec": {
   "display_name": "Python 3",
   "language": "python",
   "name": "python3"
  },
  "language_info": {
   "codemirror_mode": {
    "name": "ipython",
    "version": 3
   },
   "file_extension": ".py",
   "mimetype": "text/x-python",
   "name": "python",
   "nbconvert_exporter": "python",
   "pygments_lexer": "ipython3",
   "version": "3.7.2"
  }
 },
 "nbformat": 4,
 "nbformat_minor": 4
}
