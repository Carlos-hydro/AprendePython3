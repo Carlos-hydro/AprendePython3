{
 "cells": [
  {
   "cell_type": "markdown",
   "metadata": {},
   "source": [
    "# Ejercicio 18\n",
    "\n",
    "## Enunciado\n",
    "Crea un programa que:\n",
    "\n",
    "1. Lea los datos referentes a la contaminación de Madrid de Marzo 2020 en un DataFrame de pandas.\n",
    "2. Indique el número de mediciones tomadas a las 03:00 **no válidas**.\n",
    "3. Muestre las estadísticas a nivel horario de los registros correspondientes a N02.\n",
    "\n",
    "## Datos\n",
    "\n",
    "- Listado de las estaciones de control: [enlace](https://datos.madrid.es/egob/catalogo/212629-1-estaciones-control-aire.csv)\n",
    "- Datos 2020: [enlace](https://datos.madrid.es/egob/catalogo/201200-10306316-calidad-aire-horario.zip)\n",
    "- Datos 2019: [enlace](https://datos.madrid.es/egob/catalogo/201200-42-calidad-aire-horario.zip)\n",
    "- Interpretación de los datos: [enlace](https://datos.madrid.es/FWProjects/egob/Catalogo/MedioAmbiente/Aire/Ficheros/Interprete_ficheros_%20calidad_%20del_%20aire_global.pdf)"
   ]
  },
  {
   "cell_type": "markdown",
   "metadata": {},
   "source": [
    "### ¿Qué cosas nuevas necesitamos saber?\n",
    "- DataFrames. La librería **pandas**."
   ]
  },
  {
   "cell_type": "markdown",
   "metadata": {},
   "source": [
    "### DataFrames. La librería **pandas**.\n",
    "\n",
    "Antes de poder utilizar la librería **pandas** debemos instalarla. Para ello, el comando es el siguiente:\n",
    "```console\n",
    "pip install -U pandas\n",
    "```\n",
    "\n",
    "**NOTA**: Recuerda ejecutar la consola como administrador en el caso de Windows o preceder el comando de **sudo** en el caso de Linux/MacOS."
   ]
  },
  {
   "cell_type": "code",
   "execution_count": null,
   "metadata": {},
   "outputs": [],
   "source": [
    "# una vez instalada, realizaremos el siguiente import\n",
    "import pandas as pd"
   ]
  },
  {
   "cell_type": "markdown",
   "metadata": {},
   "source": [
    "Pero, antes de empezar... qué es pandas?\n",
    "\n",
    "Pues entre otras cosas, pandas es una librería que nos brinda estructuras de datos denominados DataFrames. Para aquellos que tengáis conocimientos en bases de datos, sería el equivalente (a grosso modo) a una tabla."
   ]
  },
  {
   "cell_type": "markdown",
   "metadata": {},
   "source": [
    "#### Importando datos\n",
    "\n",
    "Para importar datos, existen numerosas opciones en función del origen de los datos.\n",
    "\n",
    "Todas ellas están disponibles en [este enlace](https://pandas.pydata.org/pandas-docs/stable/reference/io.html).\n",
    "\n",
    "Veamos un ejemplo de como leer un csv. Para ello utilizaremos los datos del COVID-19 proporcionados por el Ministerio de Sanidad disponibles en [este enlace](https://covid19.isciii.es/resources/serie_historica_acumulados.csv), los cuales debemos descargar."
   ]
  },
  {
   "cell_type": "code",
   "execution_count": null,
   "metadata": {},
   "outputs": [],
   "source": [
    "# en mi caso los he descargado en el directorio dónde tengo los ejercicios, por lo que lo haré de la siguiente manera:\n",
    "covid_df = pd.read_csv(\"serie_historica_acumulados.csv\", encoding=\"ISO-8859-1\")"
   ]
  },
  {
   "cell_type": "code",
   "execution_count": null,
   "metadata": {},
   "outputs": [],
   "source": [
    "# observemos que pinta tienen los datos\n",
    "covid_df"
   ]
  },
  {
   "cell_type": "markdown",
   "metadata": {},
   "source": [
    "Como podemos comprobar, por defecto nos ha tomado la primera fila como las cabeceras y, dado que lo ha separado correctamente en columnas, ha tomado la coma (,) como separador.\n",
    "\n",
    "Además, hemos tenido que indicarle el encoding en este caso ya que en la fila 1026 tenemos la palabra n**ú**mero y de no indicarle que el encodig es el correspondiente al alfabeto latino hubiera fallado (podéis comprobarlo quitano el parámetro en cuestión).\n",
    "\n",
    "Podéis consultar el resto de información (os hará falta) del método [aquí](https://pandas.pydata.org/pandas-docs/stable/reference/api/pandas.read_csv.html#pandas.read_csv)."
   ]
  },
  {
   "cell_type": "markdown",
   "metadata": {},
   "source": [
    "Veamos algunas funciones de utilidad:"
   ]
  },
  {
   "cell_type": "code",
   "execution_count": null,
   "metadata": {},
   "outputs": [],
   "source": [
    "covid_df.count() # conteo de registros no nulos (NaN) por columna"
   ]
  },
  {
   "cell_type": "code",
   "execution_count": null,
   "metadata": {},
   "outputs": [],
   "source": [
    "covid_df.describe() # estadísticas de registros no nulos (NaN) por columna numérica"
   ]
  },
  {
   "cell_type": "markdown",
   "metadata": {},
   "source": [
    "**NOTA**: Las estadíticas anteriores se han calculado sobre la suma total de todos los registros."
   ]
  },
  {
   "cell_type": "markdown",
   "metadata": {},
   "source": [
    "Veamos como obtener las estadísticas en base a los últimos datos conocidos"
   ]
  },
  {
   "cell_type": "code",
   "execution_count": null,
   "metadata": {},
   "outputs": [],
   "source": [
    "recent_covid_19 = covid_df[covid_df['FECHA'] == '13/4/2020'] # así obtenemos aquellos registros cuya fecha\n",
    "# coincide con la máxima observada"
   ]
  },
  {
   "cell_type": "code",
   "execution_count": null,
   "metadata": {},
   "outputs": [],
   "source": [
    "recent_covid_19"
   ]
  },
  {
   "cell_type": "markdown",
   "metadata": {},
   "source": [
    "Ahora si, obtengamos estadísticas de interes:"
   ]
  },
  {
   "cell_type": "code",
   "execution_count": null,
   "metadata": {},
   "outputs": [],
   "source": [
    "recent_covid_19.describe()"
   ]
  },
  {
   "cell_type": "markdown",
   "metadata": {},
   "source": [
    "Como podemos comprobar, por ejemplo, la media (mean) de casos por CCAA a 13 de abril está en torno a los 9000, mientras que la CCAA con mas casos (max) es Madrid con 48048 y la que menos (min) es Ceuta con 96."
   ]
  },
  {
   "cell_type": "markdown",
   "metadata": {},
   "source": [
    "Eso es todo, a por el ejercicio!"
   ]
  },
  {
   "cell_type": "markdown",
   "metadata": {},
   "source": [
    "## Solución"
   ]
  },
  {
   "cell_type": "code",
   "execution_count": 1,
   "metadata": {},
   "outputs": [],
   "source": [
    "import pandas as pd"
   ]
  },
  {
   "cell_type": "code",
   "execution_count": 2,
   "metadata": {},
   "outputs": [],
   "source": [
    "pollution = pd.read_csv(\"../Datos/mar_mo20.csv\", sep=\";\")"
   ]
  },
  {
   "cell_type": "code",
   "execution_count": 3,
   "metadata": {},
   "outputs": [],
   "source": [
    "no_validas = pollution[pollution['V03'] != 'V']"
   ]
  },
  {
   "cell_type": "code",
   "execution_count": 4,
   "metadata": {},
   "outputs": [
    {
     "name": "stdout",
     "output_type": "stream",
     "text": [
      "Número de mediciones realizadas a las 03:00 no válidas: 178\n"
     ]
    }
   ],
   "source": [
    "print(\"Número de mediciones realizadas a las 03:00 no válidas:\", len(no_validas))"
   ]
  },
  {
   "cell_type": "code",
   "execution_count": 5,
   "metadata": {},
   "outputs": [],
   "source": [
    "no2 = pollution[pollution['MAGNITUD'] == 8]"
   ]
  },
  {
   "cell_type": "code",
   "execution_count": 6,
   "metadata": {},
   "outputs": [],
   "source": [
    "columns_with_data = [col for col in no2.columns if col.startswith('H')]"
   ]
  },
  {
   "cell_type": "code",
   "execution_count": 7,
   "metadata": {},
   "outputs": [],
   "source": [
    "no2_values = pollution[columns_with_data]"
   ]
  },
  {
   "cell_type": "code",
   "execution_count": 8,
   "metadata": {},
   "outputs": [
    {
     "data": {
      "text/html": [
       "<div>\n",
       "<style scoped>\n",
       "    .dataframe tbody tr th:only-of-type {\n",
       "        vertical-align: middle;\n",
       "    }\n",
       "\n",
       "    .dataframe tbody tr th {\n",
       "        vertical-align: top;\n",
       "    }\n",
       "\n",
       "    .dataframe thead th {\n",
       "        text-align: right;\n",
       "    }\n",
       "</style>\n",
       "<table border=\"1\" class=\"dataframe\">\n",
       "  <thead>\n",
       "    <tr style=\"text-align: right;\">\n",
       "      <th></th>\n",
       "      <th>H01</th>\n",
       "      <th>H02</th>\n",
       "      <th>H03</th>\n",
       "      <th>H04</th>\n",
       "      <th>H05</th>\n",
       "      <th>H06</th>\n",
       "      <th>H07</th>\n",
       "      <th>H08</th>\n",
       "      <th>H09</th>\n",
       "      <th>H10</th>\n",
       "      <th>...</th>\n",
       "      <th>H15</th>\n",
       "      <th>H16</th>\n",
       "      <th>H17</th>\n",
       "      <th>H18</th>\n",
       "      <th>H19</th>\n",
       "      <th>H20</th>\n",
       "      <th>H21</th>\n",
       "      <th>H22</th>\n",
       "      <th>H23</th>\n",
       "      <th>H24</th>\n",
       "    </tr>\n",
       "  </thead>\n",
       "  <tbody>\n",
       "    <tr>\n",
       "      <th>count</th>\n",
       "      <td>4598.000000</td>\n",
       "      <td>4598.000000</td>\n",
       "      <td>4598.000000</td>\n",
       "      <td>4598.000000</td>\n",
       "      <td>4598.000000</td>\n",
       "      <td>4598.000000</td>\n",
       "      <td>4598.000000</td>\n",
       "      <td>4598.000000</td>\n",
       "      <td>4598.000000</td>\n",
       "      <td>4598.000000</td>\n",
       "      <td>...</td>\n",
       "      <td>4598.000000</td>\n",
       "      <td>4598.000000</td>\n",
       "      <td>4598.000000</td>\n",
       "      <td>4598.000000</td>\n",
       "      <td>4598.000000</td>\n",
       "      <td>4598.000000</td>\n",
       "      <td>4598.000000</td>\n",
       "      <td>4598.000000</td>\n",
       "      <td>4598.000000</td>\n",
       "      <td>4598.000000</td>\n",
       "    </tr>\n",
       "    <tr>\n",
       "      <th>mean</th>\n",
       "      <td>18.143575</td>\n",
       "      <td>16.629167</td>\n",
       "      <td>14.802510</td>\n",
       "      <td>14.013443</td>\n",
       "      <td>13.427468</td>\n",
       "      <td>13.270037</td>\n",
       "      <td>14.688784</td>\n",
       "      <td>19.108117</td>\n",
       "      <td>21.005909</td>\n",
       "      <td>20.232064</td>\n",
       "      <td>...</td>\n",
       "      <td>16.720753</td>\n",
       "      <td>16.250259</td>\n",
       "      <td>15.585646</td>\n",
       "      <td>15.694517</td>\n",
       "      <td>16.531729</td>\n",
       "      <td>18.952084</td>\n",
       "      <td>21.361351</td>\n",
       "      <td>22.007612</td>\n",
       "      <td>21.501757</td>\n",
       "      <td>19.899759</td>\n",
       "    </tr>\n",
       "    <tr>\n",
       "      <th>std</th>\n",
       "      <td>32.232470</td>\n",
       "      <td>30.192827</td>\n",
       "      <td>27.040683</td>\n",
       "      <td>24.109473</td>\n",
       "      <td>22.146130</td>\n",
       "      <td>21.422921</td>\n",
       "      <td>22.847674</td>\n",
       "      <td>30.310507</td>\n",
       "      <td>32.980588</td>\n",
       "      <td>31.517162</td>\n",
       "      <td>...</td>\n",
       "      <td>23.689522</td>\n",
       "      <td>25.242926</td>\n",
       "      <td>23.471836</td>\n",
       "      <td>23.323784</td>\n",
       "      <td>23.380833</td>\n",
       "      <td>28.432687</td>\n",
       "      <td>35.174266</td>\n",
       "      <td>39.652856</td>\n",
       "      <td>40.387479</td>\n",
       "      <td>35.968053</td>\n",
       "    </tr>\n",
       "    <tr>\n",
       "      <th>min</th>\n",
       "      <td>0.000000</td>\n",
       "      <td>0.000000</td>\n",
       "      <td>0.000000</td>\n",
       "      <td>0.000000</td>\n",
       "      <td>0.000000</td>\n",
       "      <td>0.000000</td>\n",
       "      <td>0.000000</td>\n",
       "      <td>0.000000</td>\n",
       "      <td>0.000000</td>\n",
       "      <td>0.000000</td>\n",
       "      <td>...</td>\n",
       "      <td>0.000000</td>\n",
       "      <td>0.000000</td>\n",
       "      <td>0.000000</td>\n",
       "      <td>0.000000</td>\n",
       "      <td>0.000000</td>\n",
       "      <td>0.000000</td>\n",
       "      <td>0.000000</td>\n",
       "      <td>0.000000</td>\n",
       "      <td>0.000000</td>\n",
       "      <td>0.000000</td>\n",
       "    </tr>\n",
       "    <tr>\n",
       "      <th>25%</th>\n",
       "      <td>1.000000</td>\n",
       "      <td>1.000000</td>\n",
       "      <td>1.000000</td>\n",
       "      <td>1.000000</td>\n",
       "      <td>1.000000</td>\n",
       "      <td>1.000000</td>\n",
       "      <td>1.000000</td>\n",
       "      <td>1.000000</td>\n",
       "      <td>1.202500</td>\n",
       "      <td>1.300000</td>\n",
       "      <td>...</td>\n",
       "      <td>1.170000</td>\n",
       "      <td>1.000000</td>\n",
       "      <td>1.000000</td>\n",
       "      <td>1.000000</td>\n",
       "      <td>1.000000</td>\n",
       "      <td>1.000000</td>\n",
       "      <td>1.000000</td>\n",
       "      <td>1.000000</td>\n",
       "      <td>1.000000</td>\n",
       "      <td>1.000000</td>\n",
       "    </tr>\n",
       "    <tr>\n",
       "      <th>50%</th>\n",
       "      <td>6.000000</td>\n",
       "      <td>5.000000</td>\n",
       "      <td>5.000000</td>\n",
       "      <td>5.000000</td>\n",
       "      <td>5.000000</td>\n",
       "      <td>5.000000</td>\n",
       "      <td>6.000000</td>\n",
       "      <td>8.000000</td>\n",
       "      <td>9.000000</td>\n",
       "      <td>9.000000</td>\n",
       "      <td>...</td>\n",
       "      <td>7.000000</td>\n",
       "      <td>6.000000</td>\n",
       "      <td>6.000000</td>\n",
       "      <td>6.000000</td>\n",
       "      <td>7.000000</td>\n",
       "      <td>7.000000</td>\n",
       "      <td>8.000000</td>\n",
       "      <td>8.000000</td>\n",
       "      <td>8.000000</td>\n",
       "      <td>7.000000</td>\n",
       "    </tr>\n",
       "    <tr>\n",
       "      <th>75%</th>\n",
       "      <td>18.000000</td>\n",
       "      <td>16.000000</td>\n",
       "      <td>13.000000</td>\n",
       "      <td>13.000000</td>\n",
       "      <td>13.000000</td>\n",
       "      <td>13.090000</td>\n",
       "      <td>18.000000</td>\n",
       "      <td>27.000000</td>\n",
       "      <td>30.000000</td>\n",
       "      <td>27.000000</td>\n",
       "      <td>...</td>\n",
       "      <td>19.000000</td>\n",
       "      <td>18.000000</td>\n",
       "      <td>17.000000</td>\n",
       "      <td>18.000000</td>\n",
       "      <td>20.750000</td>\n",
       "      <td>25.000000</td>\n",
       "      <td>28.000000</td>\n",
       "      <td>28.000000</td>\n",
       "      <td>25.000000</td>\n",
       "      <td>21.000000</td>\n",
       "    </tr>\n",
       "    <tr>\n",
       "      <th>max</th>\n",
       "      <td>371.000000</td>\n",
       "      <td>372.000000</td>\n",
       "      <td>265.000000</td>\n",
       "      <td>235.000000</td>\n",
       "      <td>215.000000</td>\n",
       "      <td>237.000000</td>\n",
       "      <td>360.000000</td>\n",
       "      <td>424.000000</td>\n",
       "      <td>453.000000</td>\n",
       "      <td>470.000000</td>\n",
       "      <td>...</td>\n",
       "      <td>122.300000</td>\n",
       "      <td>457.000000</td>\n",
       "      <td>160.000000</td>\n",
       "      <td>149.500000</td>\n",
       "      <td>178.000000</td>\n",
       "      <td>483.000000</td>\n",
       "      <td>580.000000</td>\n",
       "      <td>697.000000</td>\n",
       "      <td>633.000000</td>\n",
       "      <td>459.000000</td>\n",
       "    </tr>\n",
       "  </tbody>\n",
       "</table>\n",
       "<p>8 rows × 24 columns</p>\n",
       "</div>"
      ],
      "text/plain": [
       "               H01          H02          H03          H04          H05  \\\n",
       "count  4598.000000  4598.000000  4598.000000  4598.000000  4598.000000   \n",
       "mean     18.143575    16.629167    14.802510    14.013443    13.427468   \n",
       "std      32.232470    30.192827    27.040683    24.109473    22.146130   \n",
       "min       0.000000     0.000000     0.000000     0.000000     0.000000   \n",
       "25%       1.000000     1.000000     1.000000     1.000000     1.000000   \n",
       "50%       6.000000     5.000000     5.000000     5.000000     5.000000   \n",
       "75%      18.000000    16.000000    13.000000    13.000000    13.000000   \n",
       "max     371.000000   372.000000   265.000000   235.000000   215.000000   \n",
       "\n",
       "               H06          H07          H08          H09          H10  ...  \\\n",
       "count  4598.000000  4598.000000  4598.000000  4598.000000  4598.000000  ...   \n",
       "mean     13.270037    14.688784    19.108117    21.005909    20.232064  ...   \n",
       "std      21.422921    22.847674    30.310507    32.980588    31.517162  ...   \n",
       "min       0.000000     0.000000     0.000000     0.000000     0.000000  ...   \n",
       "25%       1.000000     1.000000     1.000000     1.202500     1.300000  ...   \n",
       "50%       5.000000     6.000000     8.000000     9.000000     9.000000  ...   \n",
       "75%      13.090000    18.000000    27.000000    30.000000    27.000000  ...   \n",
       "max     237.000000   360.000000   424.000000   453.000000   470.000000  ...   \n",
       "\n",
       "               H15          H16          H17          H18          H19  \\\n",
       "count  4598.000000  4598.000000  4598.000000  4598.000000  4598.000000   \n",
       "mean     16.720753    16.250259    15.585646    15.694517    16.531729   \n",
       "std      23.689522    25.242926    23.471836    23.323784    23.380833   \n",
       "min       0.000000     0.000000     0.000000     0.000000     0.000000   \n",
       "25%       1.170000     1.000000     1.000000     1.000000     1.000000   \n",
       "50%       7.000000     6.000000     6.000000     6.000000     7.000000   \n",
       "75%      19.000000    18.000000    17.000000    18.000000    20.750000   \n",
       "max     122.300000   457.000000   160.000000   149.500000   178.000000   \n",
       "\n",
       "               H20          H21          H22          H23          H24  \n",
       "count  4598.000000  4598.000000  4598.000000  4598.000000  4598.000000  \n",
       "mean     18.952084    21.361351    22.007612    21.501757    19.899759  \n",
       "std      28.432687    35.174266    39.652856    40.387479    35.968053  \n",
       "min       0.000000     0.000000     0.000000     0.000000     0.000000  \n",
       "25%       1.000000     1.000000     1.000000     1.000000     1.000000  \n",
       "50%       7.000000     8.000000     8.000000     8.000000     7.000000  \n",
       "75%      25.000000    28.000000    28.000000    25.000000    21.000000  \n",
       "max     483.000000   580.000000   697.000000   633.000000   459.000000  \n",
       "\n",
       "[8 rows x 24 columns]"
      ]
     },
     "execution_count": 8,
     "metadata": {},
     "output_type": "execute_result"
    }
   ],
   "source": [
    "no2_values.describe()"
   ]
  },
  {
   "cell_type": "markdown",
   "metadata": {},
   "source": [
    "### Bonus: ¿A qué hora se da el pico de contaminación?"
   ]
  },
  {
   "cell_type": "code",
   "execution_count": 9,
   "metadata": {},
   "outputs": [],
   "source": [
    "statistics = no2_values.describe()"
   ]
  },
  {
   "cell_type": "code",
   "execution_count": 10,
   "metadata": {},
   "outputs": [
    {
     "data": {
      "text/html": [
       "<div>\n",
       "<style scoped>\n",
       "    .dataframe tbody tr th:only-of-type {\n",
       "        vertical-align: middle;\n",
       "    }\n",
       "\n",
       "    .dataframe tbody tr th {\n",
       "        vertical-align: top;\n",
       "    }\n",
       "\n",
       "    .dataframe thead th {\n",
       "        text-align: right;\n",
       "    }\n",
       "</style>\n",
       "<table border=\"1\" class=\"dataframe\">\n",
       "  <thead>\n",
       "    <tr style=\"text-align: right;\">\n",
       "      <th></th>\n",
       "      <th>H01</th>\n",
       "      <th>H02</th>\n",
       "      <th>H03</th>\n",
       "      <th>H04</th>\n",
       "      <th>H05</th>\n",
       "      <th>H06</th>\n",
       "      <th>H07</th>\n",
       "      <th>H08</th>\n",
       "      <th>H09</th>\n",
       "      <th>H10</th>\n",
       "      <th>...</th>\n",
       "      <th>H15</th>\n",
       "      <th>H16</th>\n",
       "      <th>H17</th>\n",
       "      <th>H18</th>\n",
       "      <th>H19</th>\n",
       "      <th>H20</th>\n",
       "      <th>H21</th>\n",
       "      <th>H22</th>\n",
       "      <th>H23</th>\n",
       "      <th>H24</th>\n",
       "    </tr>\n",
       "  </thead>\n",
       "  <tbody>\n",
       "    <tr>\n",
       "      <th>count</th>\n",
       "      <td>4598.000000</td>\n",
       "      <td>4598.000000</td>\n",
       "      <td>4598.000000</td>\n",
       "      <td>4598.000000</td>\n",
       "      <td>4598.000000</td>\n",
       "      <td>4598.000000</td>\n",
       "      <td>4598.000000</td>\n",
       "      <td>4598.000000</td>\n",
       "      <td>4598.000000</td>\n",
       "      <td>4598.000000</td>\n",
       "      <td>...</td>\n",
       "      <td>4598.000000</td>\n",
       "      <td>4598.000000</td>\n",
       "      <td>4598.000000</td>\n",
       "      <td>4598.000000</td>\n",
       "      <td>4598.000000</td>\n",
       "      <td>4598.000000</td>\n",
       "      <td>4598.000000</td>\n",
       "      <td>4598.000000</td>\n",
       "      <td>4598.000000</td>\n",
       "      <td>4598.000000</td>\n",
       "    </tr>\n",
       "    <tr>\n",
       "      <th>mean</th>\n",
       "      <td>18.143575</td>\n",
       "      <td>16.629167</td>\n",
       "      <td>14.802510</td>\n",
       "      <td>14.013443</td>\n",
       "      <td>13.427468</td>\n",
       "      <td>13.270037</td>\n",
       "      <td>14.688784</td>\n",
       "      <td>19.108117</td>\n",
       "      <td>21.005909</td>\n",
       "      <td>20.232064</td>\n",
       "      <td>...</td>\n",
       "      <td>16.720753</td>\n",
       "      <td>16.250259</td>\n",
       "      <td>15.585646</td>\n",
       "      <td>15.694517</td>\n",
       "      <td>16.531729</td>\n",
       "      <td>18.952084</td>\n",
       "      <td>21.361351</td>\n",
       "      <td>22.007612</td>\n",
       "      <td>21.501757</td>\n",
       "      <td>19.899759</td>\n",
       "    </tr>\n",
       "    <tr>\n",
       "      <th>std</th>\n",
       "      <td>32.232470</td>\n",
       "      <td>30.192827</td>\n",
       "      <td>27.040683</td>\n",
       "      <td>24.109473</td>\n",
       "      <td>22.146130</td>\n",
       "      <td>21.422921</td>\n",
       "      <td>22.847674</td>\n",
       "      <td>30.310507</td>\n",
       "      <td>32.980588</td>\n",
       "      <td>31.517162</td>\n",
       "      <td>...</td>\n",
       "      <td>23.689522</td>\n",
       "      <td>25.242926</td>\n",
       "      <td>23.471836</td>\n",
       "      <td>23.323784</td>\n",
       "      <td>23.380833</td>\n",
       "      <td>28.432687</td>\n",
       "      <td>35.174266</td>\n",
       "      <td>39.652856</td>\n",
       "      <td>40.387479</td>\n",
       "      <td>35.968053</td>\n",
       "    </tr>\n",
       "    <tr>\n",
       "      <th>min</th>\n",
       "      <td>0.000000</td>\n",
       "      <td>0.000000</td>\n",
       "      <td>0.000000</td>\n",
       "      <td>0.000000</td>\n",
       "      <td>0.000000</td>\n",
       "      <td>0.000000</td>\n",
       "      <td>0.000000</td>\n",
       "      <td>0.000000</td>\n",
       "      <td>0.000000</td>\n",
       "      <td>0.000000</td>\n",
       "      <td>...</td>\n",
       "      <td>0.000000</td>\n",
       "      <td>0.000000</td>\n",
       "      <td>0.000000</td>\n",
       "      <td>0.000000</td>\n",
       "      <td>0.000000</td>\n",
       "      <td>0.000000</td>\n",
       "      <td>0.000000</td>\n",
       "      <td>0.000000</td>\n",
       "      <td>0.000000</td>\n",
       "      <td>0.000000</td>\n",
       "    </tr>\n",
       "    <tr>\n",
       "      <th>25%</th>\n",
       "      <td>1.000000</td>\n",
       "      <td>1.000000</td>\n",
       "      <td>1.000000</td>\n",
       "      <td>1.000000</td>\n",
       "      <td>1.000000</td>\n",
       "      <td>1.000000</td>\n",
       "      <td>1.000000</td>\n",
       "      <td>1.000000</td>\n",
       "      <td>1.202500</td>\n",
       "      <td>1.300000</td>\n",
       "      <td>...</td>\n",
       "      <td>1.170000</td>\n",
       "      <td>1.000000</td>\n",
       "      <td>1.000000</td>\n",
       "      <td>1.000000</td>\n",
       "      <td>1.000000</td>\n",
       "      <td>1.000000</td>\n",
       "      <td>1.000000</td>\n",
       "      <td>1.000000</td>\n",
       "      <td>1.000000</td>\n",
       "      <td>1.000000</td>\n",
       "    </tr>\n",
       "    <tr>\n",
       "      <th>50%</th>\n",
       "      <td>6.000000</td>\n",
       "      <td>5.000000</td>\n",
       "      <td>5.000000</td>\n",
       "      <td>5.000000</td>\n",
       "      <td>5.000000</td>\n",
       "      <td>5.000000</td>\n",
       "      <td>6.000000</td>\n",
       "      <td>8.000000</td>\n",
       "      <td>9.000000</td>\n",
       "      <td>9.000000</td>\n",
       "      <td>...</td>\n",
       "      <td>7.000000</td>\n",
       "      <td>6.000000</td>\n",
       "      <td>6.000000</td>\n",
       "      <td>6.000000</td>\n",
       "      <td>7.000000</td>\n",
       "      <td>7.000000</td>\n",
       "      <td>8.000000</td>\n",
       "      <td>8.000000</td>\n",
       "      <td>8.000000</td>\n",
       "      <td>7.000000</td>\n",
       "    </tr>\n",
       "    <tr>\n",
       "      <th>75%</th>\n",
       "      <td>18.000000</td>\n",
       "      <td>16.000000</td>\n",
       "      <td>13.000000</td>\n",
       "      <td>13.000000</td>\n",
       "      <td>13.000000</td>\n",
       "      <td>13.090000</td>\n",
       "      <td>18.000000</td>\n",
       "      <td>27.000000</td>\n",
       "      <td>30.000000</td>\n",
       "      <td>27.000000</td>\n",
       "      <td>...</td>\n",
       "      <td>19.000000</td>\n",
       "      <td>18.000000</td>\n",
       "      <td>17.000000</td>\n",
       "      <td>18.000000</td>\n",
       "      <td>20.750000</td>\n",
       "      <td>25.000000</td>\n",
       "      <td>28.000000</td>\n",
       "      <td>28.000000</td>\n",
       "      <td>25.000000</td>\n",
       "      <td>21.000000</td>\n",
       "    </tr>\n",
       "    <tr>\n",
       "      <th>max</th>\n",
       "      <td>371.000000</td>\n",
       "      <td>372.000000</td>\n",
       "      <td>265.000000</td>\n",
       "      <td>235.000000</td>\n",
       "      <td>215.000000</td>\n",
       "      <td>237.000000</td>\n",
       "      <td>360.000000</td>\n",
       "      <td>424.000000</td>\n",
       "      <td>453.000000</td>\n",
       "      <td>470.000000</td>\n",
       "      <td>...</td>\n",
       "      <td>122.300000</td>\n",
       "      <td>457.000000</td>\n",
       "      <td>160.000000</td>\n",
       "      <td>149.500000</td>\n",
       "      <td>178.000000</td>\n",
       "      <td>483.000000</td>\n",
       "      <td>580.000000</td>\n",
       "      <td>697.000000</td>\n",
       "      <td>633.000000</td>\n",
       "      <td>459.000000</td>\n",
       "    </tr>\n",
       "  </tbody>\n",
       "</table>\n",
       "<p>8 rows × 24 columns</p>\n",
       "</div>"
      ],
      "text/plain": [
       "               H01          H02          H03          H04          H05  \\\n",
       "count  4598.000000  4598.000000  4598.000000  4598.000000  4598.000000   \n",
       "mean     18.143575    16.629167    14.802510    14.013443    13.427468   \n",
       "std      32.232470    30.192827    27.040683    24.109473    22.146130   \n",
       "min       0.000000     0.000000     0.000000     0.000000     0.000000   \n",
       "25%       1.000000     1.000000     1.000000     1.000000     1.000000   \n",
       "50%       6.000000     5.000000     5.000000     5.000000     5.000000   \n",
       "75%      18.000000    16.000000    13.000000    13.000000    13.000000   \n",
       "max     371.000000   372.000000   265.000000   235.000000   215.000000   \n",
       "\n",
       "               H06          H07          H08          H09          H10  ...  \\\n",
       "count  4598.000000  4598.000000  4598.000000  4598.000000  4598.000000  ...   \n",
       "mean     13.270037    14.688784    19.108117    21.005909    20.232064  ...   \n",
       "std      21.422921    22.847674    30.310507    32.980588    31.517162  ...   \n",
       "min       0.000000     0.000000     0.000000     0.000000     0.000000  ...   \n",
       "25%       1.000000     1.000000     1.000000     1.202500     1.300000  ...   \n",
       "50%       5.000000     6.000000     8.000000     9.000000     9.000000  ...   \n",
       "75%      13.090000    18.000000    27.000000    30.000000    27.000000  ...   \n",
       "max     237.000000   360.000000   424.000000   453.000000   470.000000  ...   \n",
       "\n",
       "               H15          H16          H17          H18          H19  \\\n",
       "count  4598.000000  4598.000000  4598.000000  4598.000000  4598.000000   \n",
       "mean     16.720753    16.250259    15.585646    15.694517    16.531729   \n",
       "std      23.689522    25.242926    23.471836    23.323784    23.380833   \n",
       "min       0.000000     0.000000     0.000000     0.000000     0.000000   \n",
       "25%       1.170000     1.000000     1.000000     1.000000     1.000000   \n",
       "50%       7.000000     6.000000     6.000000     6.000000     7.000000   \n",
       "75%      19.000000    18.000000    17.000000    18.000000    20.750000   \n",
       "max     122.300000   457.000000   160.000000   149.500000   178.000000   \n",
       "\n",
       "               H20          H21          H22          H23          H24  \n",
       "count  4598.000000  4598.000000  4598.000000  4598.000000  4598.000000  \n",
       "mean     18.952084    21.361351    22.007612    21.501757    19.899759  \n",
       "std      28.432687    35.174266    39.652856    40.387479    35.968053  \n",
       "min       0.000000     0.000000     0.000000     0.000000     0.000000  \n",
       "25%       1.000000     1.000000     1.000000     1.000000     1.000000  \n",
       "50%       7.000000     8.000000     8.000000     8.000000     7.000000  \n",
       "75%      25.000000    28.000000    28.000000    25.000000    21.000000  \n",
       "max     483.000000   580.000000   697.000000   633.000000   459.000000  \n",
       "\n",
       "[8 rows x 24 columns]"
      ]
     },
     "execution_count": 10,
     "metadata": {},
     "output_type": "execute_result"
    }
   ],
   "source": [
    "statistics"
   ]
  },
  {
   "cell_type": "code",
   "execution_count": 11,
   "metadata": {},
   "outputs": [],
   "source": [
    "max_values = statistics.loc['max'] # nos quedamos con la fila max"
   ]
  },
  {
   "cell_type": "code",
   "execution_count": 12,
   "metadata": {},
   "outputs": [],
   "source": [
    "from matplotlib import pyplot as plt"
   ]
  },
  {
   "cell_type": "code",
   "execution_count": 13,
   "metadata": {},
   "outputs": [],
   "source": [
    "max_value_at = list(max_values).index(max(max_values)) # obtenemos el indice donde se haya el maximo valor"
   ]
  },
  {
   "cell_type": "code",
   "execution_count": 14,
   "metadata": {},
   "outputs": [
    {
     "data": {
      "image/png": "[encoded data removed]",
      "text/plain": [
       "<Figure size 936x432 with 1 Axes>"
      ]
     },
     "metadata": {
      "needs_background": "light"
     },
     "output_type": "display_data"
    }
   ],
   "source": [
    "plt.figure(figsize=(13, 6))\n",
    "plt.plot(max_values.index, max_values, color='red', label='máximas')\n",
    "plt.legend()\n",
    "# con una f al comienzo del string podemos insertar valores al \"vuelo\" entre {} para que se representen en el string\n",
    "plt.title(f\"Pico máximo de contaminación a las {max_values.index[max_value_at]}\")\n",
    "plt.tight_layout()"
   ]
  },
  {
   "cell_type": "code",
   "execution_count": null,
   "metadata": {},
   "outputs": [],
   "source": []
  }
 ],
 "metadata": {
  "kernelspec": {
   "display_name": "Python 3",
   "language": "python",
   "name": "python3"
  },
  "language_info": {
   "codemirror_mode": {
    "name": "ipython",
    "version": 3
   },
   "file_extension": ".py",
   "mimetype": "text/x-python",
   "name": "python",
   "nbconvert_exporter": "python",
   "pygments_lexer": "ipython3",
   "version": "3.7.2"
  }
 },
 "nbformat": 4,
 "nbformat_minor": 4
}
